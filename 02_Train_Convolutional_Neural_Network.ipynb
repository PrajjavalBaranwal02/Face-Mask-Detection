{
 "cells": [
  {
   "cell_type": "markdown",
   "metadata": {},
   "source": [
    "## Train Deep Learning Model"
   ]
  },
  {
   "cell_type": "markdown",
   "metadata": {},
   "source": [
    "### step-1 load the preprocess data"
   ]
  },
  {
   "cell_type": "code",
   "execution_count": 1,
   "metadata": {},
   "outputs": [],
   "source": [
    "import os\n",
    "import numpy as np\n",
    "import cv2\n",
    "import gc"
   ]
  },
  {
   "cell_type": "code",
   "execution_count": 2,
   "metadata": {},
   "outputs": [],
   "source": [
    "# load the preprocessed data\n",
    "data = np.load('./data/data_preprocess.npz')"
   ]
  },
  {
   "cell_type": "code",
   "execution_count": 3,
   "metadata": {},
   "outputs": [],
   "source": [
    "X = data['arr_0']\n",
    "y = data['arr_1']"
   ]
  },
  {
   "cell_type": "code",
   "execution_count": 4,
   "metadata": {},
   "outputs": [
    {
     "data": {
      "text/plain": [
       "((9959, 100, 100, 3), (9959,))"
      ]
     },
     "execution_count": 4,
     "metadata": {},
     "output_type": "execute_result"
    }
   ],
   "source": [
    "X.shape, y.shape"
   ]
  },
  {
   "cell_type": "markdown",
   "metadata": {},
   "source": [
    "### Preprocessing \"y\""
   ]
  },
  {
   "cell_type": "code",
   "execution_count": 5,
   "metadata": {},
   "outputs": [
    {
     "data": {
      "text/plain": [
       "array(['Mask', 'Mask_Chin', 'Mask_Mouth_Chin', 'Mask_Nose_Mouth'],\n",
       "      dtype='<U15')"
      ]
     },
     "execution_count": 5,
     "metadata": {},
     "output_type": "execute_result"
    }
   ],
   "source": [
    "np.unique(y)"
   ]
  },
  {
   "cell_type": "code",
   "execution_count": 6,
   "metadata": {},
   "outputs": [],
   "source": [
    "from sklearn.preprocessing import OneHotEncoder"
   ]
  },
  {
   "cell_type": "code",
   "execution_count": 7,
   "metadata": {},
   "outputs": [],
   "source": [
    "onehot = OneHotEncoder()\n",
    "y_onehot = onehot.fit_transform(y.reshape(-1,1))"
   ]
  },
  {
   "cell_type": "code",
   "execution_count": 8,
   "metadata": {},
   "outputs": [],
   "source": [
    "y_array = y_onehot.toarray()"
   ]
  },
  {
   "cell_type": "markdown",
   "metadata": {},
   "source": [
    "### Split the Data into Train and Test sets"
   ]
  },
  {
   "cell_type": "code",
   "execution_count": 9,
   "metadata": {},
   "outputs": [],
   "source": [
    "from sklearn.model_selection import train_test_split\n",
    "x_train, x_test, y_train, y_test = train_test_split(X,y_array,test_size=0.2,random_state=42)"
   ]
  },
  {
   "cell_type": "code",
   "execution_count": 10,
   "metadata": {},
   "outputs": [
    {
     "data": {
      "text/plain": [
       "((7967, 100, 100, 3), (1992, 100, 100, 3), (7967, 4), (1992, 4))"
      ]
     },
     "execution_count": 10,
     "metadata": {},
     "output_type": "execute_result"
    }
   ],
   "source": [
    "x_train.shape, x_test.shape, y_train.shape, y_test.shape"
   ]
  },
  {
   "cell_type": "markdown",
   "metadata": {},
   "source": [
    "### Deep Learning Model"
   ]
  },
  {
   "cell_type": "markdown",
   "metadata": {},
   "source": [
    "![cnn](cnn.png)"
   ]
  },
  {
   "cell_type": "code",
   "execution_count": 11,
   "metadata": {},
   "outputs": [
    {
     "data": {
      "text/plain": [
       "array([[0., 0., 1., 0.],\n",
       "       [0., 0., 0., 1.],\n",
       "       [0., 0., 0., 1.],\n",
       "       ...,\n",
       "       [0., 0., 1., 0.],\n",
       "       [1., 0., 0., 0.],\n",
       "       [0., 0., 1., 0.]])"
      ]
     },
     "execution_count": 11,
     "metadata": {},
     "output_type": "execute_result"
    }
   ],
   "source": [
    "y_train"
   ]
  },
  {
   "cell_type": "code",
   "execution_count": 14,
   "metadata": {},
   "outputs": [],
   "source": [
    "cv2.imshow('a',x_train[-2])\n",
    "cv2.waitKey()\n",
    "cv2.destroyAllWindows()"
   ]
  },
  {
   "cell_type": "code",
   "execution_count": 15,
   "metadata": {},
   "outputs": [],
   "source": [
    "import tensorflow as tf\n",
    "from tensorflow.keras import layers\n",
    "from tensorflow.keras import Sequential"
   ]
  },
  {
   "cell_type": "code",
   "execution_count": 16,
   "metadata": {},
   "outputs": [],
   "source": [
    "# convolution neural network\n",
    "\n",
    "model = Sequential([\n",
    "    layers.Conv2D(16,3,padding='same',input_shape=(100,100,3),activation='relu'),\n",
    "    layers.MaxPool2D(),\n",
    "    layers.Conv2D(32,3,padding='same',activation='relu'),\n",
    "    layers.MaxPool2D(),\n",
    "    layers.Conv2D(64,3,padding='same',activation='relu'),\n",
    "    layers.MaxPool2D(),\n",
    "    layers.Flatten(),\n",
    "    layers.Dense(192,activation='relu'),\n",
    "    layers.Dense(28,activation='relu'),\n",
    "    layers.Dense(4,activation='sigmoid')\n",
    "])\n",
    "\n",
    "\n",
    "# compiling CNN\n",
    "model.compile(optimizer=tf.keras.optimizers.Adam(learning_rate=0.001),\n",
    "              loss=tf.keras.losses.categorical_crossentropy,metrics=['accuracy'])"
   ]
  },
  {
   "cell_type": "code",
   "execution_count": 17,
   "metadata": {},
   "outputs": [
    {
     "name": "stdout",
     "output_type": "stream",
     "text": [
      "Model: \"sequential\"\n",
      "_________________________________________________________________\n",
      "Layer (type)                 Output Shape              Param #   \n",
      "=================================================================\n",
      "conv2d (Conv2D)              (None, 100, 100, 16)      448       \n",
      "_________________________________________________________________\n",
      "max_pooling2d (MaxPooling2D) (None, 50, 50, 16)        0         \n",
      "_________________________________________________________________\n",
      "conv2d_1 (Conv2D)            (None, 50, 50, 32)        4640      \n",
      "_________________________________________________________________\n",
      "max_pooling2d_1 (MaxPooling2 (None, 25, 25, 32)        0         \n",
      "_________________________________________________________________\n",
      "conv2d_2 (Conv2D)            (None, 25, 25, 64)        18496     \n",
      "_________________________________________________________________\n",
      "max_pooling2d_2 (MaxPooling2 (None, 12, 12, 64)        0         \n",
      "_________________________________________________________________\n",
      "flatten (Flatten)            (None, 9216)              0         \n",
      "_________________________________________________________________\n",
      "dense (Dense)                (None, 192)               1769664   \n",
      "_________________________________________________________________\n",
      "dense_1 (Dense)              (None, 28)                5404      \n",
      "_________________________________________________________________\n",
      "dense_2 (Dense)              (None, 4)                 116       \n",
      "=================================================================\n",
      "Total params: 1,798,768\n",
      "Trainable params: 1,798,768\n",
      "Non-trainable params: 0\n",
      "_________________________________________________________________\n"
     ]
    }
   ],
   "source": [
    "model.summary()"
   ]
  },
  {
   "cell_type": "code",
   "execution_count": 18,
   "metadata": {},
   "outputs": [
    {
     "name": "stdout",
     "output_type": "stream",
     "text": [
      "Epoch 1/20\n",
      "266/266 [==============================] - 87s 315ms/step - loss: 0.5018 - accuracy: 0.7849 - val_loss: 0.0757 - val_accuracy: 0.9749\n",
      "Epoch 2/20\n",
      "266/266 [==============================] - 43s 160ms/step - loss: 0.0662 - accuracy: 0.9768 - val_loss: 0.0609 - val_accuracy: 0.9794\n",
      "Epoch 3/20\n",
      "266/266 [==============================] - 45s 169ms/step - loss: 0.0416 - accuracy: 0.9859 - val_loss: 0.0388 - val_accuracy: 0.9859\n",
      "Epoch 4/20\n",
      "266/266 [==============================] - 50s 189ms/step - loss: 0.0213 - accuracy: 0.9928 - val_loss: 0.0486 - val_accuracy: 0.9859\n",
      "Epoch 5/20\n",
      "266/266 [==============================] - 60s 227ms/step - loss: 0.0258 - accuracy: 0.9918 - val_loss: 0.0598 - val_accuracy: 0.9809\n",
      "Epoch 6/20\n",
      "266/266 [==============================] - 69s 259ms/step - loss: 0.0114 - accuracy: 0.9951 - val_loss: 0.0402 - val_accuracy: 0.9900\n",
      "Epoch 7/20\n",
      "266/266 [==============================] - 68s 255ms/step - loss: 0.0080 - accuracy: 0.9964 - val_loss: 0.0700 - val_accuracy: 0.9804\n",
      "Epoch 8/20\n",
      "266/266 [==============================] - 68s 256ms/step - loss: 0.0143 - accuracy: 0.9948 - val_loss: 0.0592 - val_accuracy: 0.9854\n",
      "Epoch 9/20\n",
      "266/266 [==============================] - 67s 251ms/step - loss: 0.0111 - accuracy: 0.9972 - val_loss: 0.0379 - val_accuracy: 0.9915\n",
      "Epoch 10/20\n",
      "266/266 [==============================] - 68s 257ms/step - loss: 0.0023 - accuracy: 0.9992 - val_loss: 0.0561 - val_accuracy: 0.9890\n",
      "Epoch 11/20\n",
      "266/266 [==============================] - 69s 258ms/step - loss: 1.3247e-04 - accuracy: 1.0000 - val_loss: 0.0469 - val_accuracy: 0.9905\n",
      "Epoch 12/20\n",
      "266/266 [==============================] - 68s 256ms/step - loss: 5.0975e-05 - accuracy: 1.0000 - val_loss: 0.0503 - val_accuracy: 0.9895\n",
      "Epoch 13/20\n",
      "266/266 [==============================] - 67s 252ms/step - loss: 2.5027e-05 - accuracy: 1.0000 - val_loss: 0.0518 - val_accuracy: 0.9895\n",
      "Epoch 14/20\n",
      "266/266 [==============================] - 67s 252ms/step - loss: 1.5986e-05 - accuracy: 1.0000 - val_loss: 0.0525 - val_accuracy: 0.9895\n",
      "Epoch 15/20\n",
      "266/266 [==============================] - 69s 258ms/step - loss: 1.0560e-05 - accuracy: 1.0000 - val_loss: 0.0537 - val_accuracy: 0.9895\n",
      "Epoch 16/20\n",
      "266/266 [==============================] - 70s 263ms/step - loss: 7.5284e-06 - accuracy: 1.0000 - val_loss: 0.0544 - val_accuracy: 0.9895\n",
      "Epoch 17/20\n",
      "266/266 [==============================] - 68s 257ms/step - loss: 6.4672e-06 - accuracy: 1.0000 - val_loss: 0.0553 - val_accuracy: 0.9895\n",
      "Epoch 18/20\n",
      "266/266 [==============================] - 68s 254ms/step - loss: 5.6674e-06 - accuracy: 1.0000 - val_loss: 0.0559 - val_accuracy: 0.9895\n",
      "Epoch 19/20\n",
      "266/266 [==============================] - 69s 258ms/step - loss: 5.2256e-06 - accuracy: 1.0000 - val_loss: 0.0571 - val_accuracy: 0.9895\n",
      "Epoch 20/20\n",
      "266/266 [==============================] - 68s 256ms/step - loss: 3.5535e-06 - accuracy: 1.0000 - val_loss: 0.0573 - val_accuracy: 0.9895\n"
     ]
    }
   ],
   "source": [
    "# Training CNN\n",
    "history = model.fit(x=x_train,y=y_train,validation_data=(x_test,y_test),batch_size=30,epochs=20)"
   ]
  },
  {
   "cell_type": "code",
   "execution_count": 19,
   "metadata": {},
   "outputs": [
    {
     "data": {
      "image/png": "[encoded data removed]",
      "text/plain": [
       "<Figure size 432x288 with 1 Axes>"
      ]
     },
     "metadata": {
      "needs_background": "light"
     },
     "output_type": "display_data"
    },
    {
     "data": {
      "image/png": "[encoded data removed]",
      "text/plain": [
       "<Figure size 432x288 with 1 Axes>"
      ]
     },
     "metadata": {
      "needs_background": "light"
     },
     "output_type": "display_data"
    }
   ],
   "source": [
    "import pandas as pd\n",
    "import matplotlib.pyplot as plt\n",
    "\n",
    "history_df = pd.DataFrame(history.history)\n",
    "\n",
    "history_df\n",
    "\n",
    "history_df[['loss','val_loss']].plot(kind='line')\n",
    "plt.xlabel('Epochs')\n",
    "plt.ylabel('Loss')\n",
    "plt.xticks(list(range(10)),list(range(1,11)))\n",
    "plt.show()\n",
    "\n",
    "history_df[['accuracy','val_accuracy']].plot(kind='line')\n",
    "plt.xlabel('Epochs')\n",
    "plt.ylabel('Accuracy')\n",
    "plt.xticks(list(range(10)),list(range(1,11)))\n",
    "plt.show()\n",
    "\n"
   ]
  },
  {
   "cell_type": "code",
   "execution_count": 20,
   "metadata": {},
   "outputs": [
    {
     "name": "stdout",
     "output_type": "stream",
     "text": [
      "INFO:tensorflow:Assets written to: face_cnn_model\\assets\n"
     ]
    }
   ],
   "source": [
    "\n",
    "# Save CNN Model\n",
    "model.save('face_cnn_model')\n"
   ]
  },
  {
   "cell_type": "code",
   "execution_count": 21,
   "metadata": {},
   "outputs": [
    {
     "data": {
      "text/plain": [
       "[array(['Mask', 'Mask_Chin', 'Mask_Mouth_Chin', 'Mask_Nose_Mouth'],\n",
       "       dtype='<U15')]"
      ]
     },
     "execution_count": 21,
     "metadata": {},
     "output_type": "execute_result"
    }
   ],
   "source": [
    "onehot.categories_"
   ]
  }
 ],
 "metadata": {
  "kernelspec": {
   "display_name": "Python 3",
   "language": "python",
   "name": "python3"
  },
  "language_info": {
   "codemirror_mode": {
    "name": "ipython",
    "version": 3
   },
   "file_extension": ".py",
   "mimetype": "text/x-python",
   "name": "python",
   "nbconvert_exporter": "python",
   "pygments_lexer": "ipython3",
   "version": "3.8.5"
  }
 },
 "nbformat": 4,
 "nbformat_minor": 4
}
